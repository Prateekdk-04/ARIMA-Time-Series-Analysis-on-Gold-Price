{
 "cells": [
  {
   "cell_type": "code",
   "execution_count": 1,
   "id": "96db344f",
   "metadata": {},
   "outputs": [],
   "source": [
    "import matplotlib.pyplot as plt  #for visualization\n",
    "import seaborn as sns  #for advanced visualization\n",
    "import pandas as pd #for dataframe handling\n",
    "import numpy as np #for array operations \n",
    "import datetime"
   ]
  },
  {
   "cell_type": "code",
   "execution_count": 2,
   "id": "b8080ca7",
   "metadata": {},
   "outputs": [
    {
     "data": {
      "text/html": [
       "<div>\n",
       "<style scoped>\n",
       "    .dataframe tbody tr th:only-of-type {\n",
       "        vertical-align: middle;\n",
       "    }\n",
       "\n",
       "    .dataframe tbody tr th {\n",
       "        vertical-align: top;\n",
       "    }\n",
       "\n",
       "    .dataframe thead th {\n",
       "        text-align: right;\n",
       "    }\n",
       "</style>\n",
       "<table border=\"1\" class=\"dataframe\">\n",
       "  <thead>\n",
       "    <tr style=\"text-align: right;\">\n",
       "      <th></th>\n",
       "      <th>Date</th>\n",
       "      <th>Value</th>\n",
       "    </tr>\n",
       "  </thead>\n",
       "  <tbody>\n",
       "    <tr>\n",
       "      <th>0</th>\n",
       "      <td>1970-01-01</td>\n",
       "      <td>35.20</td>\n",
       "    </tr>\n",
       "    <tr>\n",
       "      <th>1</th>\n",
       "      <td>1970-04-01</td>\n",
       "      <td>35.10</td>\n",
       "    </tr>\n",
       "    <tr>\n",
       "      <th>2</th>\n",
       "      <td>1970-07-01</td>\n",
       "      <td>35.40</td>\n",
       "    </tr>\n",
       "    <tr>\n",
       "      <th>3</th>\n",
       "      <td>1970-10-01</td>\n",
       "      <td>36.20</td>\n",
       "    </tr>\n",
       "    <tr>\n",
       "      <th>4</th>\n",
       "      <td>1971-01-01</td>\n",
       "      <td>37.40</td>\n",
       "    </tr>\n",
       "    <tr>\n",
       "      <th>...</th>\n",
       "      <td>...</td>\n",
       "      <td>...</td>\n",
       "    </tr>\n",
       "    <tr>\n",
       "      <th>10782</th>\n",
       "      <td>2020-03-09</td>\n",
       "      <td>1672.50</td>\n",
       "    </tr>\n",
       "    <tr>\n",
       "      <th>10783</th>\n",
       "      <td>2020-03-10</td>\n",
       "      <td>1655.70</td>\n",
       "    </tr>\n",
       "    <tr>\n",
       "      <th>10784</th>\n",
       "      <td>2020-03-11</td>\n",
       "      <td>1653.75</td>\n",
       "    </tr>\n",
       "    <tr>\n",
       "      <th>10785</th>\n",
       "      <td>2020-03-12</td>\n",
       "      <td>1570.70</td>\n",
       "    </tr>\n",
       "    <tr>\n",
       "      <th>10786</th>\n",
       "      <td>2020-03-13</td>\n",
       "      <td>1562.80</td>\n",
       "    </tr>\n",
       "  </tbody>\n",
       "</table>\n",
       "<p>10787 rows × 2 columns</p>\n",
       "</div>"
      ],
      "text/plain": [
       "            Date    Value\n",
       "0     1970-01-01    35.20\n",
       "1     1970-04-01    35.10\n",
       "2     1970-07-01    35.40\n",
       "3     1970-10-01    36.20\n",
       "4     1971-01-01    37.40\n",
       "...          ...      ...\n",
       "10782 2020-03-09  1672.50\n",
       "10783 2020-03-10  1655.70\n",
       "10784 2020-03-11  1653.75\n",
       "10785 2020-03-12  1570.70\n",
       "10786 2020-03-13  1562.80\n",
       "\n",
       "[10787 rows x 2 columns]"
      ]
     },
     "execution_count": 2,
     "metadata": {},
     "output_type": "execute_result"
    }
   ],
   "source": [
    "gold = pd.read_csv(\"gold_price_data.csv\")\n",
    "gold['Date'] = pd.to_datetime(gold['Date'], errors='coerce')\n",
    "gold"
   ]
  },
  {
   "cell_type": "code",
   "execution_count": 3,
   "id": "2fe2996f-c65d-4f3d-89ea-3b6d1060dcb7",
   "metadata": {},
   "outputs": [
    {
     "data": {
      "text/plain": [
       "<DatetimeArray>\n",
       "['1970-01-01 00:00:00', '1970-04-01 00:00:00', '1970-07-01 00:00:00',\n",
       " '1970-10-01 00:00:00', '1971-01-01 00:00:00', '1971-04-01 00:00:00',\n",
       " '1971-07-01 00:00:00', '1971-10-01 00:00:00', '1972-01-03 00:00:00',\n",
       " '1972-04-03 00:00:00',\n",
       " ...\n",
       " '2020-03-02 00:00:00', '2020-03-03 00:00:00', '2020-03-04 00:00:00',\n",
       " '2020-03-05 00:00:00', '2020-03-06 00:00:00', '2020-03-09 00:00:00',\n",
       " '2020-03-10 00:00:00', '2020-03-11 00:00:00', '2020-03-12 00:00:00',\n",
       " '2020-03-13 00:00:00']\n",
       "Length: 10787, dtype: datetime64[ns]"
      ]
     },
     "execution_count": 3,
     "metadata": {},
     "output_type": "execute_result"
    }
   ],
   "source": [
    "gold['Date'].unique()"
   ]
  },
  {
   "cell_type": "markdown",
   "id": "093976ee-1349-4af6-801f-82e27cacd98e",
   "metadata": {},
   "source": [
    "## 2 DATA PRE-PROCESSING"
   ]
  },
  {
   "cell_type": "markdown",
   "id": "1b06417d",
   "metadata": {},
   "source": [
    "### 2a.BASIC EDA"
   ]
  },
  {
   "cell_type": "code",
   "execution_count": 4,
   "id": "d28dc77b",
   "metadata": {},
   "outputs": [
    {
     "name": "stdout",
     "output_type": "stream",
     "text": [
      "The Shape of the data is: (10787, 2)\n"
     ]
    }
   ],
   "source": [
    "d1=gold.shape\n",
    "print(\"The Shape of the data is:\",d1)"
   ]
  },
  {
   "cell_type": "code",
   "execution_count": 5,
   "id": "f87980be",
   "metadata": {},
   "outputs": [
    {
     "name": "stdout",
     "output_type": "stream",
     "text": [
      "The Size of the data is: 21574\n"
     ]
    }
   ],
   "source": [
    "d2=gold.size\n",
    "print(\"The Size of the data is:\",d2)"
   ]
  },
  {
   "cell_type": "code",
   "execution_count": 6,
   "id": "d1c7a127",
   "metadata": {},
   "outputs": [
    {
     "name": "stdout",
     "output_type": "stream",
     "text": [
      "The Dimensionality of the data is: 2\n"
     ]
    }
   ],
   "source": [
    "d3=gold.ndim\n",
    "print(\"The Dimensionality of the data is:\",d3)"
   ]
  },
  {
   "cell_type": "code",
   "execution_count": 7,
   "id": "7a38ae0c",
   "metadata": {},
   "outputs": [
    {
     "name": "stdout",
     "output_type": "stream",
     "text": [
      "<class 'pandas.core.frame.DataFrame'>\n",
      "RangeIndex: 10787 entries, 0 to 10786\n",
      "Data columns (total 2 columns):\n",
      " #   Column  Non-Null Count  Dtype         \n",
      "---  ------  --------------  -----         \n",
      " 0   Date    10787 non-null  datetime64[ns]\n",
      " 1   Value   10787 non-null  float64       \n",
      "dtypes: datetime64[ns](1), float64(1)\n",
      "memory usage: 168.7 KB\n"
     ]
    }
   ],
   "source": [
    "gold.info()"
   ]
  },
  {
   "cell_type": "code",
   "execution_count": 8,
   "id": "1b16f0ea",
   "metadata": {},
   "outputs": [
    {
     "data": {
      "text/html": [
       "<div>\n",
       "<style scoped>\n",
       "    .dataframe tbody tr th:only-of-type {\n",
       "        vertical-align: middle;\n",
       "    }\n",
       "\n",
       "    .dataframe tbody tr th {\n",
       "        vertical-align: top;\n",
       "    }\n",
       "\n",
       "    .dataframe thead th {\n",
       "        text-align: right;\n",
       "    }\n",
       "</style>\n",
       "<table border=\"1\" class=\"dataframe\">\n",
       "  <thead>\n",
       "    <tr style=\"text-align: right;\">\n",
       "      <th></th>\n",
       "      <th>Date</th>\n",
       "      <th>Value</th>\n",
       "    </tr>\n",
       "  </thead>\n",
       "  <tbody>\n",
       "    <tr>\n",
       "      <th>count</th>\n",
       "      <td>10787</td>\n",
       "      <td>10787.000000</td>\n",
       "    </tr>\n",
       "    <tr>\n",
       "      <th>mean</th>\n",
       "      <td>1999-07-07 01:19:57.775099648</td>\n",
       "      <td>653.596634</td>\n",
       "    </tr>\n",
       "    <tr>\n",
       "      <th>min</th>\n",
       "      <td>1970-01-01 00:00:00</td>\n",
       "      <td>35.100000</td>\n",
       "    </tr>\n",
       "    <tr>\n",
       "      <th>25%</th>\n",
       "      <td>1989-03-11 12:00:00</td>\n",
       "      <td>349.200000</td>\n",
       "    </tr>\n",
       "    <tr>\n",
       "      <th>50%</th>\n",
       "      <td>1999-07-13 00:00:00</td>\n",
       "      <td>409.350000</td>\n",
       "    </tr>\n",
       "    <tr>\n",
       "      <th>75%</th>\n",
       "      <td>2009-11-11 12:00:00</td>\n",
       "      <td>1061.625000</td>\n",
       "    </tr>\n",
       "    <tr>\n",
       "      <th>max</th>\n",
       "      <td>2020-03-13 00:00:00</td>\n",
       "      <td>1895.000000</td>\n",
       "    </tr>\n",
       "    <tr>\n",
       "      <th>std</th>\n",
       "      <td>NaN</td>\n",
       "      <td>434.030848</td>\n",
       "    </tr>\n",
       "  </tbody>\n",
       "</table>\n",
       "</div>"
      ],
      "text/plain": [
       "                                Date         Value\n",
       "count                          10787  10787.000000\n",
       "mean   1999-07-07 01:19:57.775099648    653.596634\n",
       "min              1970-01-01 00:00:00     35.100000\n",
       "25%              1989-03-11 12:00:00    349.200000\n",
       "50%              1999-07-13 00:00:00    409.350000\n",
       "75%              2009-11-11 12:00:00   1061.625000\n",
       "max              2020-03-13 00:00:00   1895.000000\n",
       "std                              NaN    434.030848"
      ]
     },
     "execution_count": 8,
     "metadata": {},
     "output_type": "execute_result"
    }
   ],
   "source": [
    "gold.describe()"
   ]
  },
  {
   "cell_type": "code",
   "execution_count": 9,
   "id": "66fbabc6",
   "metadata": {},
   "outputs": [
    {
     "name": "stdout",
     "output_type": "stream",
     "text": [
      "type of the data <class 'pandas.core.frame.DataFrame'>\n"
     ]
    }
   ],
   "source": [
    "print('type of the data',type(gold))"
   ]
  },
  {
   "cell_type": "code",
   "execution_count": 10,
   "id": "dc006670",
   "metadata": {},
   "outputs": [
    {
     "data": {
      "text/plain": [
       "Index([], dtype='object')"
      ]
     },
     "execution_count": 10,
     "metadata": {},
     "output_type": "execute_result"
    }
   ],
   "source": [
    "gold.columns[gold.isna().any()]"
   ]
  },
  {
   "cell_type": "markdown",
   "id": "e32ea8e6",
   "metadata": {},
   "source": [
    "### 2b.ADVANCED EDA"
   ]
  },
  {
   "cell_type": "code",
   "execution_count": 11,
   "id": "dd19e958",
   "metadata": {},
   "outputs": [
    {
     "data": {
      "text/plain": [
       "Text(0.5, 1.0, 'Date vs Value plot using seaborn')"
      ]
     },
     "execution_count": 11,
     "metadata": {},
     "output_type": "execute_result"
    },
    {
     "data": {
      "image/png": "[encoded data removed]",
      "text/plain": [
       "<Figure size 640x480 with 1 Axes>"
      ]
     },
     "metadata": {},
     "output_type": "display_data"
    }
   ],
   "source": [
    "#1. LINEPLOT\n",
    "sns.lineplot(x='Date',y='Value',data=gold)  #plotting line plot\n",
    "plt.title('Date vs Value plot using seaborn')"
   ]
  },
  {
   "cell_type": "code",
   "execution_count": 12,
   "id": "d7eb8b3d",
   "metadata": {},
   "outputs": [
    {
     "data": {
      "text/plain": [
       "Text(0.5, 1.0, 'Date vs Value plot using seaborn')"
      ]
     },
     "execution_count": 12,
     "metadata": {},
     "output_type": "execute_result"
    },
    {
     "data": {
      "image/png": "[encoded data removed]",
      "text/plain": [
       "<Figure size 640x480 with 1 Axes>"
      ]
     },
     "metadata": {},
     "output_type": "display_data"
    }
   ],
   "source": [
    "import matplotlib.pyplot as plt  #for visualization\n",
    "import seaborn as sns\n",
    "sns.barplot(x='Date',y='Value',data=gold)  #plotting barplot\n",
    "plt.title('Date vs Value plot using seaborn')"
   ]
  },
  {
   "cell_type": "code",
   "execution_count": 13,
   "id": "1ebe0928",
   "metadata": {},
   "outputs": [
    {
     "data": {
      "text/plain": [
       "Text(0.5, 1.0, 'Date vs Value plot using seaborn')"
      ]
     },
     "execution_count": 13,
     "metadata": {},
     "output_type": "execute_result"
    },
    {
     "data": {
      "image/png": "[encoded data removed]",
      "text/plain": [
       "<Figure size 640x480 with 1 Axes>"
      ]
     },
     "metadata": {},
     "output_type": "display_data"
    }
   ],
   "source": [
    "sns.boxplot(x='Date',y='Value',data=gold)  #plotting boxplot\n",
    "plt.title('Date vs Value plot using seaborn')"
   ]
  },
  {
   "cell_type": "code",
   "execution_count": 14,
   "id": "0380ab9e",
   "metadata": {},
   "outputs": [
    {
     "data": {
      "text/plain": [
       "Text(0.5, 1.0, 'Date vs Value plot using seaborn')"
      ]
     },
     "execution_count": 14,
     "metadata": {},
     "output_type": "execute_result"
    },
    {
     "data": {
      "image/png": "[encoded data removed]",
      "text/plain": [
       "<Figure size 640x480 with 1 Axes>"
      ]
     },
     "metadata": {},
     "output_type": "display_data"
    }
   ],
   "source": [
    "sns.violinplot(x='Date',y='Value',data=gold)  #plotting violinplot\n",
    "plt.title('Date vs Value plot using seaborn')"
   ]
  },
  {
   "cell_type": "code",
   "execution_count": 15,
   "id": "81065a1c",
   "metadata": {},
   "outputs": [
    {
     "data": {
      "text/plain": [
       "Text(0.5, 1.0, 'Date vs Value plot using seaborn')"
      ]
     },
     "execution_count": 15,
     "metadata": {},
     "output_type": "execute_result"
    },
    {
     "data": {
      "image/png": "[encoded data removed]",
      "text/plain": [
       "<Figure size 640x480 with 1 Axes>"
      ]
     },
     "metadata": {},
     "output_type": "display_data"
    }
   ],
   "source": [
    "sns.stripplot(x='Date',y='Value',data=gold)  #plotting stripplot\n",
    "plt.title('Date vs Value plot using seaborn')"
   ]
  },
  {
   "cell_type": "code",
   "execution_count": 16,
   "id": "9a3a5723",
   "metadata": {},
   "outputs": [
    {
     "data": {
      "text/plain": [
       "Text(0.5, 1.0, 'Date vs Value plot using seaborn')"
      ]
     },
     "execution_count": 16,
     "metadata": {},
     "output_type": "execute_result"
    },
    {
     "data": {
      "image/png": "[encoded data removed]",
      "text/plain": [
       "<Figure size 500x500 with 1 Axes>"
      ]
     },
     "metadata": {},
     "output_type": "display_data"
    }
   ],
   "source": [
    "sns.displot(x='Date',data=gold)  #plotting distribution plot\n",
    "plt.title('Date vs Value plot using seaborn')"
   ]
  },
  {
   "cell_type": "code",
   "execution_count": 11,
   "id": "d974056e",
   "metadata": {},
   "outputs": [
    {
     "data": {
      "text/html": [
       "<div>\n",
       "<style scoped>\n",
       "    .dataframe tbody tr th:only-of-type {\n",
       "        vertical-align: middle;\n",
       "    }\n",
       "\n",
       "    .dataframe tbody tr th {\n",
       "        vertical-align: top;\n",
       "    }\n",
       "\n",
       "    .dataframe thead th {\n",
       "        text-align: right;\n",
       "    }\n",
       "</style>\n",
       "<table border=\"1\" class=\"dataframe\">\n",
       "  <thead>\n",
       "    <tr style=\"text-align: right;\">\n",
       "      <th></th>\n",
       "      <th>Date</th>\n",
       "      <th>Value</th>\n",
       "      <th>Days</th>\n",
       "    </tr>\n",
       "  </thead>\n",
       "  <tbody>\n",
       "    <tr>\n",
       "      <th>0</th>\n",
       "      <td>1970-01-01</td>\n",
       "      <td>35.20</td>\n",
       "      <td>0</td>\n",
       "    </tr>\n",
       "    <tr>\n",
       "      <th>1</th>\n",
       "      <td>1970-04-01</td>\n",
       "      <td>35.10</td>\n",
       "      <td>90</td>\n",
       "    </tr>\n",
       "    <tr>\n",
       "      <th>2</th>\n",
       "      <td>1970-07-01</td>\n",
       "      <td>35.40</td>\n",
       "      <td>181</td>\n",
       "    </tr>\n",
       "    <tr>\n",
       "      <th>3</th>\n",
       "      <td>1970-10-01</td>\n",
       "      <td>36.20</td>\n",
       "      <td>273</td>\n",
       "    </tr>\n",
       "    <tr>\n",
       "      <th>4</th>\n",
       "      <td>1971-01-01</td>\n",
       "      <td>37.40</td>\n",
       "      <td>365</td>\n",
       "    </tr>\n",
       "    <tr>\n",
       "      <th>...</th>\n",
       "      <td>...</td>\n",
       "      <td>...</td>\n",
       "      <td>...</td>\n",
       "    </tr>\n",
       "    <tr>\n",
       "      <th>10782</th>\n",
       "      <td>2020-03-09</td>\n",
       "      <td>1672.50</td>\n",
       "      <td>18330</td>\n",
       "    </tr>\n",
       "    <tr>\n",
       "      <th>10783</th>\n",
       "      <td>2020-03-10</td>\n",
       "      <td>1655.70</td>\n",
       "      <td>18331</td>\n",
       "    </tr>\n",
       "    <tr>\n",
       "      <th>10784</th>\n",
       "      <td>2020-03-11</td>\n",
       "      <td>1653.75</td>\n",
       "      <td>18332</td>\n",
       "    </tr>\n",
       "    <tr>\n",
       "      <th>10785</th>\n",
       "      <td>2020-03-12</td>\n",
       "      <td>1570.70</td>\n",
       "      <td>18333</td>\n",
       "    </tr>\n",
       "    <tr>\n",
       "      <th>10786</th>\n",
       "      <td>2020-03-13</td>\n",
       "      <td>1562.80</td>\n",
       "      <td>18334</td>\n",
       "    </tr>\n",
       "  </tbody>\n",
       "</table>\n",
       "<p>10787 rows × 3 columns</p>\n",
       "</div>"
      ],
      "text/plain": [
       "            Date    Value   Days\n",
       "0     1970-01-01    35.20      0\n",
       "1     1970-04-01    35.10     90\n",
       "2     1970-07-01    35.40    181\n",
       "3     1970-10-01    36.20    273\n",
       "4     1971-01-01    37.40    365\n",
       "...          ...      ...    ...\n",
       "10782 2020-03-09  1672.50  18330\n",
       "10783 2020-03-10  1655.70  18331\n",
       "10784 2020-03-11  1653.75  18332\n",
       "10785 2020-03-12  1570.70  18333\n",
       "10786 2020-03-13  1562.80  18334\n",
       "\n",
       "[10787 rows x 3 columns]"
      ]
     },
     "execution_count": 11,
     "metadata": {},
     "output_type": "execute_result"
    }
   ],
   "source": [
    "import pandas as pd\n",
    "gold['Date'] = pd.to_datetime(gold['Date'],format='%d-%m-%Y')\n",
    "#gold['Date'] = gold['Date'].dt.date\n",
    "min_date = gold['Date'].min()\n",
    "gold['Days'] = (gold['Date'] - min_date).astype(str)\n",
    "gold['Days'] = gold['Days'].str.extract('(\\d+)').astype(int)\n",
    "gold.to_csv('pre_processed_Gold_price_data.csv')\n",
    "gold"
   ]
  },
  {
   "cell_type": "code",
   "execution_count": 12,
   "id": "2abc07a9",
   "metadata": {},
   "outputs": [],
   "source": [
    "import datetime\n",
    "def new_date_to_day(new_date):\n",
    "    gold = pd.read_csv('pre_processed_Gold_price_data.csv')\n",
    "    min_date = gold['Date'].min()\n",
    "    new_date = datetime.datetime.strptime(new_date,\"%d-%m-%Y\").date()\n",
    "    min_date = datetime.datetime.strptime(str(min_date),\"%d-%m-%Y\").date()\n",
    "    new_day = (new_date-min_date).days\n",
    "    \n",
    "    return new_day"
   ]
  },
  {
   "cell_type": "code",
   "execution_count": 13,
   "id": "ef15a611",
   "metadata": {},
   "outputs": [],
   "source": [
    "# Assuming 'timestamp_column' contains Timestamp objects\n",
    "gold['Date'] = pd.to_datetime(gold['Date'])\n",
    "\n",
    "# Convert Timestamp to Unix timestamp (float)\n",
    "gold['Date'] = gold['Date'].apply(lambda x:x.timestamp())"
   ]
  },
  {
   "cell_type": "code",
   "execution_count": 14,
   "id": "fa41ace5",
   "metadata": {},
   "outputs": [
    {
     "data": {
      "text/plain": [
       "<Axes: >"
      ]
     },
     "execution_count": 14,
     "metadata": {},
     "output_type": "execute_result"
    },
    {
     "data": {
      "image/png": "[encoded data removed]",
      "text/plain": [
       "<Figure size 640x480 with 2 Axes>"
      ]
     },
     "metadata": {},
     "output_type": "display_data"
    }
   ],
   "source": [
    "#heatmap\n",
    "import seaborn as sns\n",
    "import matplotlib.pyplot as plt\n",
    "sns.heatmap(gold.corr()) #df.corr() gives us correlation matrix for df"
   ]
  },
  {
   "cell_type": "code",
   "execution_count": 15,
   "id": "115a16b7",
   "metadata": {},
   "outputs": [],
   "source": [
    "import statsmodels.api as sm\n",
    "from statsmodels.tsa.stattools import adfuller\n",
    "from statsmodels.tsa.arima_model import ARIMA\n",
    "from statsmodels.tsa.seasonal import seasonal_decompose\n",
    "from statsmodels.graphics.tsaplots import plot_acf, plot_pacf"
   ]
  },
  {
   "cell_type": "markdown",
   "id": "09cb8fb9",
   "metadata": {},
   "source": [
    "### 2c.FEATURE ENGINEERING AND FEATURE SELECTION"
   ]
  },
  {
   "cell_type": "code",
   "execution_count": 16,
   "id": "7f02a8a3-48b4-4259-95dc-2bbff01c3e25",
   "metadata": {},
   "outputs": [
    {
     "name": "stdout",
     "output_type": "stream",
     "text": [
      "[info] data segregated into input and output successfully\n"
     ]
    }
   ],
   "source": [
    "#segregation of input and output column\n",
    "x = gold.iloc[:,:-1].values\n",
    "y = gold.iloc[:,-1].values\n",
    "\n",
    "#splitting data into trining and testing partion\n",
    "from sklearn.model_selection import train_test_split\n",
    "x_train,x_test,y_train,y_test = train_test_split(x,y,test_size=0.2)\n",
    "\n",
    "print('[info] data segregated into input and output successfully')"
   ]
  },
  {
   "cell_type": "code",
   "execution_count": 17,
   "id": "75646e24",
   "metadata": {},
   "outputs": [
    {
     "name": "stdout",
     "output_type": "stream",
     "text": [
      "X_train Shape (8090, 3)\n",
      "X_test Shape (2697, 3)\n"
     ]
    }
   ],
   "source": [
    "# data spliting\n",
    "X_train = gold[:8090]\n",
    "X_test = gold[8090:]\n",
    "\n",
    "print(\"X_train Shape\", X_train.shape)\n",
    "print(\"X_test Shape\", X_test.shape)"
   ]
  },
  {
   "cell_type": "code",
   "execution_count": 18,
   "id": "7c1aea2e",
   "metadata": {},
   "outputs": [],
   "source": [
    "# 9 months ahead\n",
    "X_train = X_train[['Date', 'Value']]\n",
    "X_test = X_test[['Date', 'Value']]\n",
    "\n",
    "X_train.set_index('Date', inplace=True)\n",
    "X_test.set_index('Date', inplace=True)"
   ]
  },
  {
   "cell_type": "code",
   "execution_count": 19,
   "id": "e08062fe",
   "metadata": {},
   "outputs": [
    {
     "data": {
      "text/plain": [
       "DatetimeIndex(['1970-01-01 00:00:01.584057600',\n",
       "               '1970-02-01 00:00:01.584057600',\n",
       "               '1970-03-01 00:00:01.584057600',\n",
       "               '1970-04-01 00:00:01.584057600',\n",
       "               '1970-05-01 00:00:01.584057600',\n",
       "               '1970-06-01 00:00:01.584057600',\n",
       "               '1970-07-01 00:00:01.584057600',\n",
       "               '1970-08-01 00:00:01.584057600',\n",
       "               '1970-09-01 00:00:01.584057600'],\n",
       "              dtype='datetime64[ns]', freq='MS')"
      ]
     },
     "execution_count": 19,
     "metadata": {},
     "output_type": "execute_result"
    }
   ],
   "source": [
    "index_9_months = pd.date_range(X_test.index[-1], freq='MS', periods=9)\n",
    "index_9_months"
   ]
  },
  {
   "cell_type": "code",
   "execution_count": 20,
   "id": "309448eb",
   "metadata": {},
   "outputs": [
    {
     "name": "stdout",
     "output_type": "stream",
     "text": [
      "[info] data segregated into input and output successfully\n"
     ]
    }
   ],
   "source": [
    "#segregation of input and output column\n",
    "x = gold.iloc[:,:-1].values\n",
    "y = gold.iloc[:,-1].values\n",
    "\n",
    "#splitting data into trining and testing partion\n",
    "from sklearn.model_selection import train_test_split\n",
    "x_train,x_test,y_train,y_test = train_test_split(x,y,test_size=0.2)\n",
    "\n",
    "print('[info] data segregated into input and output successfully')"
   ]
  },
  {
   "cell_type": "code",
   "execution_count": 21,
   "id": "d23d3351-a0b6-44cb-bffb-6f0fa49dca3a",
   "metadata": {},
   "outputs": [],
   "source": [
    "gold_eda = gold.copy()\n",
    "gold_eda.set_index('Date', inplace=True)"
   ]
  },
  {
   "cell_type": "markdown",
   "id": "c88ef544",
   "metadata": {},
   "source": [
    "## 3.MODEL TRAINING"
   ]
  },
  {
   "cell_type": "code",
   "execution_count": 22,
   "id": "f0b36e0b",
   "metadata": {},
   "outputs": [
    {
     "name": "stdout",
     "output_type": "stream",
     "text": [
      "[info] model training complete..\n"
     ]
    }
   ],
   "source": [
    "from sklearn.linear_model import LinearRegression    #importing algorithm\n",
    "linear_regression_model =LinearRegression()    #initialising algorithm\n",
    "linear_regression_model.fit(x_train,y_train)# training the linear regression model on data\n",
    "\n",
    "print('[info] model training complete..')"
   ]
  },
  {
   "cell_type": "markdown",
   "id": "44c10e93",
   "metadata": {},
   "source": [
    "## 4.MODEL EVALUATION"
   ]
  },
  {
   "cell_type": "code",
   "execution_count": 23,
   "id": "a9a18249",
   "metadata": {},
   "outputs": [
    {
     "name": "stdout",
     "output_type": "stream",
     "text": [
      "mse of given model is 3.1444853658635266e-23\n",
      "rmse of given model is 5.607571101522946e-12\n",
      "mae of given model is 4.820364064656101e-12\n",
      "r2 score of given model is 1.0\n"
     ]
    }
   ],
   "source": [
    "#making the model predict output for x_test\n",
    "y_predicted=linear_regression_model.predict(x_test)\n",
    "\n",
    "#taking actual values\n",
    "y_actual=y_test\n",
    "\n",
    "from sklearn.metrics import mean_squared_error,mean_absolute_error,r2_score\n",
    "import math\n",
    "mse=mean_squared_error(y_actual,y_predicted)\n",
    "print(f'mse of given model is {mse}')\n",
    "\n",
    "rmse=math.sqrt(mse)\n",
    "print(f'rmse of given model is {rmse}')\n",
    "\n",
    "mae=mean_absolute_error(y_actual,y_predicted)\n",
    "print(f'mae of given model is {mae}')\n",
    "\n",
    "r2=r2_score(y_actual,y_predicted)\n",
    "print(f'r2 score of given model is {r2}')"
   ]
  },
  {
   "cell_type": "markdown",
   "id": "767e271b",
   "metadata": {},
   "source": [
    "## 5.MODEL IMPLEMENTATION"
   ]
  },
  {
   "cell_type": "code",
   "execution_count": 28,
   "id": "9b10602b",
   "metadata": {},
   "outputs": [
    {
     "name": "stdin",
     "output_type": "stream",
     "text": [
      "Enter the number of days:  90\n",
      "Enter the date: 90\n"
     ]
    },
    {
     "name": "stdout",
     "output_type": "stream",
     "text": [
      "The predicted price is: 0.0010416666521486098\n",
      "The actual price for 90 days is: 35.1\n"
     ]
    }
   ],
   "source": [
    "# Assuming linear_regression_model is already trained\n",
    "# Get user input\n",
    "Days = int(input('Enter the number of days: '))\n",
    "date = int(input('Enter the date:'))\n",
    "# Store the user input values in a 2-D array\n",
    "new_user_input = [[Days,date]]\n",
    "# Use the model to predict output for new input\n",
    "new_output = linear_regression_model.predict(new_user_input)\n",
    "# Output is a number, we will give an answer in text\n",
    "predicted_value = new_output[0]\n",
    "# Assuming 'gold' is your DataFrame, and it has columns 'Days' and 'Value'\n",
    "# Check if the Days column matches the user input\n",
    "matching_row = gold[gold['Days'] == Days]\n",
    "if not matching_row.empty:\n",
    "    # Assuming you want to retrieve the 'Value' column from the matching row\n",
    "    actual_value = matching_row['Value'].values[0]\n",
    "    print(f'The predicted price is: {predicted_value}')\n",
    "    print(f'The actual price for {Days} days is: {actual_value}')\n",
    "else:\n",
    "    print(f'No data found for {Days} days.')"
   ]
  },
  {
   "cell_type": "code",
   "execution_count": null,
   "id": "dffe1d03-beac-4497-99a7-144f7dc988ea",
   "metadata": {},
   "outputs": [],
   "source": []
  }
 ],
 "metadata": {
  "kernelspec": {
   "display_name": "Python 3 (ipykernel)",
   "language": "python",
   "name": "python3"
  },
  "language_info": {
   "codemirror_mode": {
    "name": "ipython",
    "version": 3
   },
   "file_extension": ".py",
   "mimetype": "text/x-python",
   "name": "python",
   "nbconvert_exporter": "python",
   "pygments_lexer": "ipython3",
   "version": "3.9.18"
  }
 },
 "nbformat": 4,
 "nbformat_minor": 5
}
